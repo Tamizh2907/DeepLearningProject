{
  "cells": [
    {
      "cell_type": "code",
      "source": [
        "%cd /home/azureuser/localfiles"
      ],
      "outputs": [
        {
          "output_type": "stream",
          "name": "stdout",
          "text": "/home/azureuser/localfiles\n"
        }
      ],
      "execution_count": 1,
      "metadata": {
        "jupyter": {
          "source_hidden": false,
          "outputs_hidden": false
        },
        "nteract": {
          "transient": {
            "deleting": false
          }
        }
      }
    },
    {
      "cell_type": "code",
      "source": [
        "!wget --no-check-certificate http://homepages.cs.ncl.ac.uk/stephen.mcgough/Teaching/birds.zip"
      ],
      "outputs": [
        {
          "output_type": "stream",
          "name": "stdout",
          "text": "--2022-02-21 18:25:27--  http://homepages.cs.ncl.ac.uk/stephen.mcgough/Teaching/birds.zip\nResolving homepages.cs.ncl.ac.uk (homepages.cs.ncl.ac.uk)... 128.240.212.24\nConnecting to homepages.cs.ncl.ac.uk (homepages.cs.ncl.ac.uk)|128.240.212.24|:80... connected.\nHTTP request sent, awaiting response... 200 OK\nLength: 1658039182 (1.5G) [application/zip]\nSaving to: ‘birds.zip’\n\nbirds.zip           100%[===================>]   1.54G  8.25MB/s    in 3m 37s  \n\n2022-02-21 18:29:04 (7.30 MB/s) - ‘birds.zip’ saved [1658039182/1658039182]\n\n"
        }
      ],
      "execution_count": 2,
      "metadata": {
        "jupyter": {
          "source_hidden": false,
          "outputs_hidden": false
        },
        "nteract": {
          "transient": {
            "deleting": false
          }
        }
      }
    },
    {
      "cell_type": "code",
      "source": [
        "!wget --no-check-certificate http://homepages.cs.ncl.ac.uk/stephen.mcgough/Teaching/Test_Images.zip"
      ],
      "outputs": [
        {
          "output_type": "stream",
          "name": "stdout",
          "text": "--2022-03-11 11:07:54--  http://homepages.cs.ncl.ac.uk/stephen.mcgough/Teaching/Test_Images.zip\r\nResolving homepages.cs.ncl.ac.uk (homepages.cs.ncl.ac.uk)... 128.240.212.24\r\nConnecting to homepages.cs.ncl.ac.uk (homepages.cs.ncl.ac.uk)|128.240.212.24|:80... connected.\r\nHTTP request sent, awaiting response... 200 OK\r\nLength: 708674 (692K) [application/zip]\r\nSaving to: ‘Test_Images.zip’\r\n\r\n\rTest_Images.zip       0%[                    ]       0  --.-KB/s               \rTest_Images.zip     100%[===================>] 692.06K  --.-KB/s    in 0.1s    \r\n\r\n2022-03-11 11:07:54 (4.54 MB/s) - ‘Test_Images.zip’ saved [708674/708674]\r\n\r\n"
        }
      ],
      "execution_count": 2,
      "metadata": {
        "jupyter": {
          "source_hidden": false,
          "outputs_hidden": false
        },
        "nteract": {
          "transient": {
            "deleting": false
          }
        }
      }
    },
    {
      "cell_type": "code",
      "source": [
        "import zipfile\r\n",
        "zip_file = '/home/azureuser/localfiles/birds.zip'\r\n",
        "zip_ref = zipfile.ZipFile(zip_file, 'r')\r\n",
        "zip_ref.extractall('/home/azureuser/localfiles/')\r\n",
        "zip_ref.close()"
      ],
      "outputs": [],
      "execution_count": 3,
      "metadata": {
        "jupyter": {
          "source_hidden": false,
          "outputs_hidden": false
        },
        "nteract": {
          "transient": {
            "deleting": false
          }
        },
        "gather": {
          "logged": 1645468165278
        }
      }
    },
    {
      "cell_type": "code",
      "source": [
        "import zipfile\r\n",
        "zip_file = '/home/azureuser/localfiles/Test_Images.zip'\r\n",
        "zip_ref = zipfile.ZipFile(zip_file, 'r')\r\n",
        "zip_ref.extractall('/home/azureuser/localfiles/')\r\n",
        "zip_ref.close()"
      ],
      "outputs": [],
      "execution_count": 3,
      "metadata": {
        "jupyter": {
          "source_hidden": false,
          "outputs_hidden": false
        },
        "nteract": {
          "transient": {
            "deleting": false
          }
        },
        "gather": {
          "logged": 1646996948901
        }
      }
    },
    {
      "cell_type": "code",
      "source": [
        "import os\r\n",
        "from os.path import join\r\n",
        "import tensorflow as tf\r\n",
        "import keras_preprocessing\r\n",
        "from keras_preprocessing import image\r\n",
        "from keras_preprocessing.image import ImageDataGenerator\r\n",
        "from keras.applications.vgg16 import VGG16, preprocess_input\r\n",
        "from keras.callbacks import ModelCheckpoint, EarlyStopping\r\n",
        "import numpy as np\r\n",
        "from sklearn.metrics import confusion_matrix, ConfusionMatrixDisplay\r\n",
        "import matplotlib.pyplot as plt\r\n",
        "import pandas as pd"
      ],
      "outputs": [],
      "execution_count": 2,
      "metadata": {
        "gather": {
          "logged": 1647017299446
        }
      }
    },
    {
      "cell_type": "code",
      "source": [
        "workingdir = os.path.abspath('')\r\n",
        "trainingdirectory = os.path.join(workingdir + '/train/')\r\n",
        "validationdirectory = os.path.join(workingdir + '/valid/')"
      ],
      "outputs": [],
      "execution_count": 3,
      "metadata": {
        "jupyter": {
          "source_hidden": false,
          "outputs_hidden": false
        },
        "nteract": {
          "transient": {
            "deleting": false
          }
        },
        "gather": {
          "logged": 1647017299598
        }
      }
    },
    {
      "cell_type": "code",
      "source": [
        "trainingset = tf.keras.preprocessing.image_dataset_from_directory(trainingdirectory, image_size = (100, 100), \r\n",
        "                label_mode = 'categorical', shuffle = True)\r\n",
        "validationset = tf.keras.preprocessing.image_dataset_from_directory(validationdirectory, image_size = (100, 100), \r\n",
        "                label_mode = 'categorical', shuffle = True)"
      ],
      "outputs": [
        {
          "output_type": "stream",
          "name": "stdout",
          "text": "Found 35215 files belonging to 250 classes.\nFound 1250 files belonging to 250 classes.\n"
        }
      ],
      "execution_count": 4,
      "metadata": {
        "jupyter": {
          "source_hidden": false,
          "outputs_hidden": false
        },
        "nteract": {
          "transient": {
            "deleting": false
          }
        },
        "gather": {
          "logged": 1647017303349
        }
      }
    },
    {
      "cell_type": "code",
      "source": [
        "trainingsetpref = trainingset.prefetch(buffer_size = tf.data.AUTOTUNE)\r\n",
        "validationsetpref = validationset.prefetch(buffer_size = tf.data.AUTOTUNE)"
      ],
      "outputs": [],
      "execution_count": 5,
      "metadata": {
        "jupyter": {
          "source_hidden": false,
          "outputs_hidden": false
        },
        "nteract": {
          "transient": {
            "deleting": false
          }
        },
        "gather": {
          "logged": 1647017303854
        }
      }
    },
    {
      "cell_type": "code",
      "source": [
        "vgg16model = VGG16(weights = \"imagenet\", include_top = False, input_shape = (100, 100, 3))\r\n",
        "vgg16model.trainable = True"
      ],
      "outputs": [],
      "execution_count": 6,
      "metadata": {
        "jupyter": {
          "source_hidden": false,
          "outputs_hidden": false
        },
        "nteract": {
          "transient": {
            "deleting": false
          }
        },
        "gather": {
          "logged": 1647017307852
        }
      }
    },
    {
      "cell_type": "code",
      "source": [
        "cnnmodel = tf.keras.models.Sequential([\r\n",
        "    tf.keras.layers.RandomFlip(\"horizontal\"),\r\n",
        "    tf.keras.layers.RandomRotation(0.2, fill_mode='nearest'),\r\n",
        "    vgg16model,\r\n",
        "    tf.keras.layers.GlobalAveragePooling2D(),\r\n",
        "    tf.keras.layers.Dropout(0.5),\r\n",
        "    tf.keras.layers.Flatten(),\r\n",
        "    tf.keras.layers.Dense(4096, activation = 'relu'),\r\n",
        "    tf.keras.layers.Dense(4096, activation = 'relu'),\r\n",
        "    tf.keras.layers.Dense(250, activation = 'softmax')\r\n",
        "])"
      ],
      "outputs": [],
      "execution_count": 7,
      "metadata": {
        "jupyter": {
          "source_hidden": false,
          "outputs_hidden": false
        },
        "nteract": {
          "transient": {
            "deleting": false
          }
        },
        "gather": {
          "logged": 1647017309373
        }
      }
    },
    {
      "cell_type": "code",
      "source": [
        "optimizer = tf.keras.optimizers.Adam(learning_rate = 0.00001)\r\n",
        "cnnmodel.compile(optimizer = optimizer, loss = 'categorical_crossentropy', metrics = ['accuracy', \r\n",
        "                tf.keras.metrics.Precision(), tf.keras.metrics.Recall()])\r\n",
        "checkpoint = ModelCheckpoint(filepath=\"./models/cnnmodel1.h5\", verbose=2, save_best_only=True)\r\n",
        "earlystopping = EarlyStopping(monitor = 'val_accuracy', mode = 'max', patience = 10,  restore_best_weights = True)"
      ],
      "outputs": [],
      "execution_count": 8,
      "metadata": {
        "jupyter": {
          "source_hidden": false,
          "outputs_hidden": false
        },
        "nteract": {
          "transient": {
            "deleting": false
          }
        },
        "gather": {
          "logged": 1647004244624
        }
      }
    },
    {
      "cell_type": "code",
      "source": [
        "fitdata = cnnmodel.fit(trainingset, steps_per_epoch = len(trainingset), \r\n",
        "            validation_data = validationset, validation_steps = len(validationset), epochs = 1, \r\n",
        "            callbacks=[checkpoint, earlystopping])"
      ],
      "outputs": [
        {
          "output_type": "stream",
          "name": "stdout",
          "text": "1101/1101 [==============================] - ETA: 0s - loss: 5.3756 - accuracy: 0.0193 - precision: 0.3007 - recall: 0.0012\b\b\b\b\b\b\b\b\b\b\b\b\b\b\b\b\b\b\b\b\b\b\b\b\b\b\b\b\b\b\b\b\b\b\b\b\b\b\b\b\b\b\b\b\b\b\b\b\b\b\b\b\b\b\b\b\b\b\b\b\b\b\b\b\b\b\b\b\b\b\b\b\b\b\b\b\b\b\b\b\b\b\b\b\b\b\b\b\b\b\b\b\b\b\b\b\b\b\b\b\b\b\b\b\b\b\b\b\b\b\b\b\b\b\b\b\b\b\b\b\b\b\b\b\b\b\b\b\b\b\b\b\b\b\b\b\b\b\b\b\b\b\b\b\b\b\b\b\b\b\b\b\b\b\b\b\b\b\b\nEpoch 00001: val_loss improved from inf to 4.49427, saving model to ./models/cnnmodel1.h5\n1101/1101 [==============================] - 189s 167ms/step - loss: 5.3756 - accuracy: 0.0193 - precision: 0.3007 - recall: 0.0012 - val_loss: 4.4943 - val_accuracy: 0.0888 - val_precision: 0.5366 - val_recall: 0.0176\n"
        }
      ],
      "execution_count": 10,
      "metadata": {
        "jupyter": {
          "source_hidden": false,
          "outputs_hidden": false
        },
        "nteract": {
          "transient": {
            "deleting": false
          }
        },
        "gather": {
          "logged": 1647004457669
        }
      }
    },
    {
      "cell_type": "code",
      "source": [
        "accuracy = fitdata.history['accuracy']\r\n",
        "validation_accuracy = fitdata.history['val_accuracy']\r\n",
        "loss = fitdata.history['loss']\r\n",
        "validation_loss = fitdata.history['val_loss']\r\n",
        "\r\n",
        "epochs = range(len(accuracy))\r\n",
        "\r\n",
        "plt.plot(epochs, accuracy, 'red', label='Training accuracy')\r\n",
        "plt.plot(epochs, validation_accuracy, 'blue', label='Validation accuracy')\r\n",
        "plt.title('Training and validation accuracy')\r\n",
        "plt.legend(loc=0)\r\n",
        "plt.figure()\r\n",
        "plt.show()\r\n",
        "\r\n",
        "plt.plot(epochs, loss, 'red', label='Training loss')\r\n",
        "plt.plot(epochs, validation_loss, 'blue', label='Validation loss')\r\n",
        "plt.title('Training and validation loss')\r\n",
        "plt.legend(loc=0)\r\n",
        "plt.figure()\r\n",
        "plt.show()"
      ],
      "outputs": [
        {
          "output_type": "display_data",
          "data": {
            "text/plain": "<Figure size 432x288 with 1 Axes>",
            "image/png": "[encoded data removed]"
          },
          "metadata": {
            "needs_background": "light"
          }
        },
        {
          "output_type": "display_data",
          "data": {
            "text/plain": "<Figure size 432x288 with 0 Axes>"
          },
          "metadata": {}
        },
        {
          "output_type": "display_data",
          "data": {
            "text/plain": "<Figure size 432x288 with 1 Axes>",
            "image/png": "[encoded data removed]"
          },
          "metadata": {
            "needs_background": "light"
          }
        },
        {
          "output_type": "display_data",
          "data": {
            "text/plain": "<Figure size 432x288 with 0 Axes>"
          },
          "metadata": {}
        }
      ],
      "execution_count": 21,
      "metadata": {
        "jupyter": {
          "source_hidden": false,
          "outputs_hidden": false
        },
        "nteract": {
          "transient": {
            "deleting": false
          }
        },
        "gather": {
          "logged": 1645558557457
        }
      }
    },
    {
      "cell_type": "code",
      "source": [
        "testparentdirectory = os.path.join(workingdir + '/test/')\r\n",
        "testdata = tf.keras.preprocessing.image_dataset_from_directory(testparentdirectory, image_size = (100,100), \r\n",
        "            label_mode = 'categorical')\r\n",
        "testsetpref = testdata.prefetch(buffer_size=tf.data.AUTOTUNE)"
      ],
      "outputs": [
        {
          "output_type": "stream",
          "name": "stdout",
          "text": "Found 1250 files belonging to 250 classes.\n"
        }
      ],
      "execution_count": 8,
      "metadata": {
        "jupyter": {
          "source_hidden": false,
          "outputs_hidden": false
        },
        "nteract": {
          "transient": {
            "deleting": false
          }
        },
        "gather": {
          "logged": 1647017315000
        }
      }
    },
    {
      "cell_type": "code",
      "source": [
        "cnnmodel = tf.keras.models.load_model('./models/cnnmodel.h5')"
      ],
      "outputs": [],
      "execution_count": 9,
      "metadata": {
        "jupyter": {
          "source_hidden": false,
          "outputs_hidden": false
        },
        "nteract": {
          "transient": {
            "deleting": false
          }
        },
        "gather": {
          "logged": 1647017317765
        }
      }
    },
    {
      "cell_type": "code",
      "source": [
        "testevaluate = cnnmodel.evaluate(testsetpref)"
      ],
      "outputs": [
        {
          "output_type": "stream",
          "name": "stdout",
          "text": "40/40 [==============================] - 5s 51ms/step - loss: 0.1288 - accuracy: 0.9680 - precision_1: 0.9740 - recall_1: 0.9608\b\b\b\b\b\b\b\b\b\b\b\b\b\b\b\b\b\b\b\b\b\b\b\b\b\b\b\b\b\b\b\b\b\b\b\b\b\b\b\b\b\b\b\b\b\b\b\b\b\b\b\b\b\b\b\b\b\b\b\b\b\b\b\b\b\b\b\b\b\b\b\b\b\b\b\b\b\b\b\b\b\b\b\b\b\b\b\b\b\b\b\b\b\b\b\b\b\b\b\b\b\b\b\b\b\b\b\b\b\b\b\b\b\b\b\b\b\b\b\b\b\b\n"
        }
      ],
      "execution_count": 10,
      "metadata": {
        "jupyter": {
          "source_hidden": false,
          "outputs_hidden": false
        },
        "nteract": {
          "transient": {
            "deleting": false
          }
        },
        "gather": {
          "logged": 1647017324484
        }
      }
    },
    {
      "cell_type": "code",
      "source": [
        "testdatagen = ImageDataGenerator(rescale=1. / 255)\r\n",
        "testgenerator = testdatagen.flow_from_directory(testparentdirectory,\r\n",
        "                target_size=(100, 100), class_mode='categorical')"
      ],
      "outputs": [
        {
          "output_type": "stream",
          "name": "stdout",
          "text": "Found 1250 images belonging to 250 classes.\n"
        }
      ],
      "execution_count": 11,
      "metadata": {
        "jupyter": {
          "source_hidden": false,
          "outputs_hidden": false
        },
        "nteract": {
          "transient": {
            "deleting": false
          }
        },
        "gather": {
          "logged": 1647017332048
        }
      }
    },
    {
      "cell_type": "code",
      "source": [
        "predictions = cnnmodel.predict(testgenerator, verbose = 1)"
      ],
      "outputs": [
        {
          "output_type": "stream",
          "name": "stdout",
          "text": "40/40 [==============================] - 2s 48ms/step\b\b\b\b\b\b\b\b\b\b\b\b\b\b\b\b\b\b\b\b\b\b\b\b\b\b\b\b\b\b\b\b\b\b\b\b\b\b\b\b\b\b\b\n"
        }
      ],
      "execution_count": 12,
      "metadata": {
        "jupyter": {
          "source_hidden": false,
          "outputs_hidden": false
        },
        "nteract": {
          "transient": {
            "deleting": false
          }
        },
        "gather": {
          "logged": 1647017336774
        }
      }
    },
    {
      "cell_type": "code",
      "source": [
        "ypred = np.argmax(predictions, axis=1)"
      ],
      "outputs": [],
      "execution_count": 25,
      "metadata": {
        "jupyter": {
          "source_hidden": false,
          "outputs_hidden": false
        },
        "nteract": {
          "transient": {
            "deleting": false
          }
        },
        "gather": {
          "logged": 1647004766216
        }
      }
    },
    {
      "cell_type": "code",
      "source": [
        "cm = confusion_matrix(testgenerator.classes, ypred)\r\n",
        "disp = ConfusionMatrixDisplay(confusion_matrix = cm)\r\n",
        "disp.plot()\r\n",
        "plt.show()"
      ],
      "outputs": [
        {
          "output_type": "display_data",
          "data": {
            "text/plain": "<Figure size 432x288 with 2 Axes>",
            "image/png": "[encoded data removed]"
          },
          "metadata": {
            "needs_background": "light"
          }
        }
      ],
      "execution_count": 26,
      "metadata": {
        "jupyter": {
          "source_hidden": false,
          "outputs_hidden": false
        },
        "nteract": {
          "transient": {
            "deleting": false
          }
        },
        "gather": {
          "logged": 1647004942182
        }
      }
    },
    {
      "cell_type": "code",
      "source": [
        "testparentdirectory = os.path.join(workingdir)\r\n",
        "testdataimage = ImageDataGenerator(rescale = 1./255)\r\n",
        "testdata = testdataimage.flow_from_directory(testparentdirectory, classes=['Testbird'], target_size = (100,100))\r\n",
        "testoutput = cnnmodel.predict(testdata, verbose = 1)"
      ],
      "outputs": [
        {
          "output_type": "stream",
          "name": "stdout",
          "text": "Found 1 images belonging to 1 classes.\n\r1/1 [==============================] - ETA: 0s\b\b\b\b\b\b\b\b\b\b\b\b\b\b\b\b\b\b\b\b\b\b\b\b\b\b\b\b\b\b\b\b\b\b\b\b\b\b\b\b\b\b\b\b\b\b\r1/1 [==============================] - 0s 403ms/step\n"
        }
      ],
      "execution_count": 27,
      "metadata": {
        "jupyter": {
          "source_hidden": false,
          "outputs_hidden": false
        },
        "nteract": {
          "transient": {
            "deleting": false
          }
        },
        "gather": {
          "logged": 1647004942558
        }
      }
    },
    {
      "cell_type": "code",
      "source": [
        "ypredtest = np.argmax(testoutput, axis=1)"
      ],
      "outputs": [],
      "execution_count": 28,
      "metadata": {
        "jupyter": {
          "source_hidden": false,
          "outputs_hidden": false
        },
        "nteract": {
          "transient": {
            "deleting": false
          }
        },
        "gather": {
          "logged": 1647004942667
        }
      }
    },
    {
      "cell_type": "code",
      "source": [
        "ypredtest[0]"
      ],
      "outputs": [
        {
          "output_type": "execute_result",
          "execution_count": 29,
          "data": {
            "text/plain": "240"
          },
          "metadata": {}
        }
      ],
      "execution_count": 29,
      "metadata": {
        "jupyter": {
          "source_hidden": false,
          "outputs_hidden": false
        },
        "nteract": {
          "transient": {
            "deleting": false
          }
        },
        "gather": {
          "logged": 1647004942791
        }
      }
    },
    {
      "cell_type": "code",
      "source": [
        "title = testgenerator.class_indices\r\n",
        "title = dict((v,k) for k,v in title.items())\r\n",
        "classes = [title[k] for k in ypredtest]"
      ],
      "outputs": [],
      "execution_count": 30,
      "metadata": {
        "jupyter": {
          "source_hidden": false,
          "outputs_hidden": false
        },
        "nteract": {
          "transient": {
            "deleting": false
          }
        },
        "gather": {
          "logged": 1647004942874
        }
      }
    },
    {
      "cell_type": "code",
      "source": [
        "classes"
      ],
      "outputs": [
        {
          "output_type": "execute_result",
          "execution_count": 31,
          "data": {
            "text/plain": "['WHIMBREL']"
          },
          "metadata": {}
        }
      ],
      "execution_count": 31,
      "metadata": {
        "jupyter": {
          "source_hidden": false,
          "outputs_hidden": false
        },
        "nteract": {
          "transient": {
            "deleting": false
          }
        },
        "gather": {
          "logged": 1647004942989
        }
      }
    }
  ],
  "metadata": {
    "kernelspec": {
      "name": "azureml_py38_pt_tf",
      "language": "python",
      "display_name": "Python 3.8 - Pytorch and Tensorflow"
    },
    "language_info": {
      "name": "python",
      "version": "3.8.1",
      "mimetype": "text/x-python",
      "codemirror_mode": {
        "name": "ipython",
        "version": 3
      },
      "pygments_lexer": "ipython3",
      "nbconvert_exporter": "python",
      "file_extension": ".py"
    },
    "kernel_info": {
      "name": "azureml_py38_pt_tf"
    },
    "microsoft": {
      "host": {
        "AzureML": {
          "notebookHasBeenCompleted": true
        }
      }
    },
    "nteract": {
      "version": "nteract-front-end@1.0.0"
    }
  },
  "nbformat": 4,
  "nbformat_minor": 2
}